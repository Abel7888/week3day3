{
 "cells": [
  {
   "cell_type": "code",
   "execution_count": 2,
   "metadata": {},
   "outputs": [
    {
     "name": "stdout",
     "output_type": "stream",
     "text": [
      "my test numbr is: 0\n",
      "my test numbr is: 1\n",
      "my test numbr is: 2\n",
      "my test numbr is: 3\n",
      "my test numbr is: 4\n",
      "my test numbr is: 5\n",
      "my test numbr is: 6\n",
      "my test numbr is: 7\n",
      "my test numbr is: 8\n",
      "my test numbr is: 9\n",
      "my test numbr is: 10\n",
      "my test numbr is: 11\n",
      "my test numbr is: 12\n",
      "good bye\n"
     ]
    }
   ],
   "source": [
    "#while statment for number under 13\n",
    "number = 0\n",
    "while number < 13:\n",
    "    print('my test numbr is:', number)\n",
    "    number = number +1\n",
    "print('good bye')"
   ]
  },
  {
   "cell_type": "code",
   "execution_count": 4,
   "metadata": {},
   "outputs": [
    {
     "name": "stdout",
     "output_type": "stream",
     "text": [
      "number is to small\n",
      "number is to small\n",
      "number is to large\n",
      "number is to small\n",
      "number is to small\n",
      "number is to small\n",
      "congrats you done it\n"
     ]
    }
   ],
   "source": [
    "import random\n",
    "num = 30\n",
    "tobeguss = int(num * random.random()) + 1\n",
    "guess = 0\n",
    "\n",
    "while guess != tobeguss:\n",
    "    guess = int(input('enter your num:'))\n",
    "    if guess > 0:\n",
    "        if guess > tobeguss:\n",
    "            print('number is to large')\n",
    "        elif guess < tobeguss:\n",
    "            print('number is to small')\n",
    "    else:\n",
    "        print('sorry you are giving up')\n",
    "        break\n",
    "else:\n",
    "    print('congrats you done it')\n",
    "\n",
    "\n"
   ]
  }
 ],
 "metadata": {
  "kernelspec": {
   "display_name": "Python 3.10.8 64-bit",
   "language": "python",
   "name": "python3"
  },
  "language_info": {
   "codemirror_mode": {
    "name": "ipython",
    "version": 3
   },
   "file_extension": ".py",
   "mimetype": "text/x-python",
   "name": "python",
   "nbconvert_exporter": "python",
   "pygments_lexer": "ipython3",
   "version": "3.10.8"
  },
  "orig_nbformat": 4,
  "vscode": {
   "interpreter": {
    "hash": "c3dcfcd2b4f8e8f0c611c08e622c86a20cb483c2c1ccf36e9cf27065b69ccba9"
   }
  }
 },
 "nbformat": 4,
 "nbformat_minor": 2
}
