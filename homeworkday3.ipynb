{
 "cells": [
  {
   "cell_type": "code",
   "execution_count": null,
   "metadata": {},
   "outputs": [],
   "source": [
    "# python3\n",
    "# in-place algorithm for reversing a list\n",
    "\n",
    "list_a = [\"a\", \"b\", \"c\", \"d\", \"e\", \"f\", \"g\"]\n",
    "\n",
    "list_length = len(list_a)\n",
    "\n",
    "for i in range(list_length//2):\n",
    "    list_a[i], list_a[ list_length -1 - i] = list_a[ list_length -1 - i], list_a[i]\n",
    "\n",
    "print(list_a)\n",
    "# ['g', 'f', 'e', 'd', 'c', 'b', 'a']"
   ]
  },
  {
   "cell_type": "code",
   "execution_count": 1,
   "metadata": {},
   "outputs": [
    {
     "name": "stdout",
     "output_type": "stream",
     "text": [
      "original list: ['this', 'is', 'a', 'sentence', '.']\n",
      "Effected List: ['.', 'sentence', 'a', 'is', 'this']\n"
     ]
    }
   ],
   "source": [
    "### Exercise #1 <br>\n",
    "\n",
    "#<p>Reverse the list below in-place using an in-place algorithm.<br>For extra credit: Reverse the strings at the same time.</p>\n",
    "#outcome \n",
    "\n",
    "words = ['this' , 'is', 'a', 'sentence', '.']\n",
    "\n",
    "revrese = words[:]\n",
    "for wo in range(len(words)):\n",
    "    revrese[wo] = words[len(words)-1-wo]\n",
    "print(f'original list: {words}')\n",
    "print(f'Effected List: {revrese}')\n"
   ]
  },
  {
   "cell_type": "code",
   "execution_count": 22,
   "metadata": {},
   "outputs": [],
   "source": [
    "### Exercise #2 \n",
    "# <br><p>Create a function that counts how many distinct words are in the string below, then outputs a dictionary with the words as the key \n",
    "# and the value as the amount of times that word appears in the string.<br>Should output:<br>{'a': 5,<br>'abstract': 1,<br>\n",
    "\n",
    "\n",
    "\n",
    "sentence = \"'In computing, a hash table hash map is a data structure which implements an associative array abstract data type, a structure that can map keys to values. A hash table uses a hash function to compute an index into an array of buckets or slots from which the desired value can be found')\"\n",
    "def keyandvalue(string):  # created a function that inputs a string\n",
    "    sentence = string.split() #using split to split the strings\n",
    "    dictionary = {}  #creating empty dict to input the key and value\n",
    "    for word in sentence:  # creating a for loop # Im still trying to better understand for loops in problem solving\n",
    "        dictionary[word] = 0  #adding to the dictionary. Every string word equal to 0\n",
    "    for word in sentence:\n",
    "        dictionary[word] += 1 #add by 1 everttime the word is found\n",
    "    print(dictionary) \n",
    "    keyandvalue('In computing, a hash table hash map is a data structure which implements an associative array abstract data type, a structure that can map keys to values. A hash table uses a hash function to compute an index into an array of buckets or slots from which the desired value can be found')\n"
   ]
  },
  {
   "cell_type": "code",
   "execution_count": 17,
   "metadata": {},
   "outputs": [],
   "source": []
  }
 ],
 "metadata": {
  "kernelspec": {
   "display_name": "Python 3.10.8 64-bit",
   "language": "python",
   "name": "python3"
  },
  "language_info": {
   "codemirror_mode": {
    "name": "ipython",
    "version": 3
   },
   "file_extension": ".py",
   "mimetype": "text/x-python",
   "name": "python",
   "nbconvert_exporter": "python",
   "pygments_lexer": "ipython3",
   "version": "3.10.8"
  },
  "orig_nbformat": 4,
  "vscode": {
   "interpreter": {
    "hash": "c3dcfcd2b4f8e8f0c611c08e622c86a20cb483c2c1ccf36e9cf27065b69ccba9"
   }
  }
 },
 "nbformat": 4,
 "nbformat_minor": 2
}
